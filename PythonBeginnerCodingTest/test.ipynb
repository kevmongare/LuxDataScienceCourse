{
 "cells": [
  {
   "cell_type": "markdown",
   "id": "8c5107c7",
   "metadata": {},
   "source": [
    "### Section A: Data Types & Basic Operations (1–10)\n"
   ]
  },
  {
   "cell_type": "markdown",
   "id": "cacd22c0",
   "metadata": {},
   "source": [
    "## 1. Create a variable called name and assign it your name. Print it."
   ]
  },
  {
   "cell_type": "code",
   "execution_count": 4,
   "id": "3eb939e0",
   "metadata": {},
   "outputs": [
    {
     "name": "stdout",
     "output_type": "stream",
     "text": [
      "Kevin M\n"
     ]
    }
   ],
   "source": [
    "name = \"Kevin M\"\n",
    "#remeber all strings have to be in either single or double quotation marks\n",
    "print(name)"
   ]
  },
  {
   "cell_type": "markdown",
   "id": "f3089757",
   "metadata": {},
   "source": [
    "## 2. Create two integer variables and print their sum, difference, product, and division."
   ]
  },
  {
   "cell_type": "code",
   "execution_count": 5,
   "id": "3612e75b",
   "metadata": {},
   "outputs": [
    {
     "name": "stdout",
     "output_type": "stream",
     "text": [
      "13\n"
     ]
    }
   ],
   "source": [
    "x = 5\n",
    "y = 8\n",
    "#ints dont have to be in quotation marks\n",
    "sum = x + y\n",
    "print(sum)"
   ]
  },
  {
   "cell_type": "markdown",
   "id": "0cf24469",
   "metadata": {},
   "source": [
    "## 3. Write a program to swap two numbers without using a third variable."
   ]
  },
  {
   "cell_type": "code",
   "execution_count": 7,
   "id": "957278b0",
   "metadata": {},
   "outputs": [
    {
     "name": "stdout",
     "output_type": "stream",
     "text": [
      "A = 30\n",
      "B = 20\n"
     ]
    }
   ],
   "source": [
    "a = 20\n",
    "b = 30\n",
    "\n",
    "a, b = b, a\n",
    "'''\n",
    "what happens above is we are working with the arithmetic operator \n",
    "python allows reassigning of variables so initially a is assigned 20 and b is assigned 30\n",
    "when we have a, b the two variables hold 20, and 30 respectively and we re assign them to the same but new \n",
    "variables b and a which makes b to be 20 a to 30\n",
    "'''\n",
    "print(\"A =\", a)\n",
    "print(\"B =\", b) "
   ]
  },
  {
   "cell_type": "markdown",
   "id": "aa8ca8db",
   "metadata": {},
   "source": [
    "## 4. Write a program that takes user input for age and prints “Adult” if age ≥ 18, otherwise “Minor”."
   ]
  },
  {
   "cell_type": "code",
   "execution_count": 9,
   "id": "74703f22",
   "metadata": {},
   "outputs": [
    {
     "name": "stdout",
     "output_type": "stream",
     "text": [
      "You are a Minor\n"
     ]
    }
   ],
   "source": [
    "age = int(input(\"Enter Age: \"))\n",
    "'''On the above question they are testing on variables input key word and  if else statement'''\n",
    "if age >= 18:\n",
    "    print(\"You are an Adult\")\n",
    "else:\n",
    "    print(\"You are a Minor\")"
   ]
  },
  {
   "cell_type": "markdown",
   "id": "2b116056",
   "metadata": {},
   "source": [
    "## 5. Given a string \"programming\", print the number of times the letter 'g' appears.\n"
   ]
  },
  {
   "cell_type": "code",
   "execution_count": 13,
   "id": "1d4b87a9",
   "metadata": {},
   "outputs": [
    {
     "name": "stdout",
     "output_type": "stream",
     "text": [
      "G Appears 2 Times\n"
     ]
    }
   ],
   "source": [
    "\"\"\"The above is used to test if you know the keyword count or  for loop\"\"\"\n",
    "string_p = \"programming\"\n",
    "count_g = string_p.count('g')\n",
    "print(\"G Appears\", count_g, \"Times\")\n"
   ]
  },
  {
   "cell_type": "markdown",
   "id": "75546db1",
   "metadata": {},
   "source": [
    "you can use the lower one for interviews"
   ]
  },
  {
   "cell_type": "code",
   "execution_count": 11,
   "id": "d9ef530c",
   "metadata": {},
   "outputs": [
    {
     "name": "stdout",
     "output_type": "stream",
     "text": [
      "The letter 'g' appears 2 times\n"
     ]
    }
   ],
   "source": [
    "text = \"programming\"\n",
    "count_g = 0\n",
    "\n",
    "for letter in text:\n",
    "    if letter == 'g':\n",
    "        count_g += 1\n",
    "\n",
    "print(\"The letter 'g' appears\", count_g, \"times\")\n"
   ]
  },
  {
   "cell_type": "markdown",
   "id": "e8c33613",
   "metadata": {},
   "source": [
    "## 6. Write a program that converts a given string \"100\" to an integer and adds 25 to it.\n"
   ]
  },
  {
   "cell_type": "code",
   "execution_count": 15,
   "id": "f6fb47ca",
   "metadata": {},
   "outputs": [
    {
     "name": "stdout",
     "output_type": "stream",
     "text": [
      "The sum of the string \"100\" and 25 is 125\n"
     ]
    }
   ],
   "source": [
    "'''The above question is to check if we can convert a string to int'''\n",
    "str_Int = \"100\"\n",
    "sum = int(str_Int) + 25\n",
    "print(\"The sum of the string \\\"100\\\" and 25 is\", sum)"
   ]
  },
  {
   "cell_type": "markdown",
   "id": "c225c290",
   "metadata": {},
   "source": [
    "## 7. Write a program to find the largest number in the list [4, 9, 1, 7, 3]."
   ]
  },
  {
   "cell_type": "code",
   "execution_count": 17,
   "id": "0af30fe2",
   "metadata": {},
   "outputs": [
    {
     "name": "stdout",
     "output_type": "stream",
     "text": [
      "The largest number is: 9\n"
     ]
    }
   ],
   "source": [
    "numbers = [4, 9, 1, 7, 3] #we have initialised the list\n",
    "largest = numbers[0] \n",
    "'''\n",
    "we are creating a variable called largest and \n",
    "assigning it an initial value of the number that is on index 0\n",
    "'''\n",
    "for number in numbers:\n",
    "    '''\n",
    "    We are not using loop to check each value as \n",
    "    from index 0 from the list numbers we are temporarily storing the value in \n",
    "    a variable number and after confirming the number is the biggest we return it as the largest\n",
    "    '''\n",
    "    if number > largest:\n",
    "        largest = number\n",
    "        \n",
    "\n",
    "print(\"The largest number is:\", largest)\n"
   ]
  },
  {
   "cell_type": "markdown",
   "id": "40ab33b4",
   "metadata": {},
   "source": [
    "## 8. Write a program to reverse the list [1, 2, 3, 4, 5]."
   ]
  },
  {
   "cell_type": "code",
   "execution_count": 25,
   "id": "6f9ce944",
   "metadata": {},
   "outputs": [
    {
     "name": "stdout",
     "output_type": "stream",
     "text": [
      "[5, 4, 3, 2, 1]\n"
     ]
    }
   ],
   "source": [
    "lst = [1, 2, 3, 4, 5]\n",
    "reversed_list = lst[::-1]\n",
    "print(reversed_list)"
   ]
  },
  {
   "cell_type": "code",
   "execution_count": 26,
   "id": "eef45132",
   "metadata": {},
   "outputs": [
    {
     "name": "stdout",
     "output_type": "stream",
     "text": [
      "The reversed list is : [5, 4, 3, 2, 1]\n"
     ]
    }
   ],
   "source": [
    "lst = [1, 2, 3, 4, 5]\n",
    "reversed_list =[]\n",
    "for i in range(len(lst)-1,-1,-1):\n",
    "    reversed_list.append(lst[i])\n",
    "print(\"The reversed list is :\", reversed_list)"
   ]
  },
  {
   "cell_type": "markdown",
   "id": "8c6f3d64",
   "metadata": {},
   "source": [
    "## 9. Create a dictionary with keys name, age, and country, and print the value of age."
   ]
  },
  {
   "cell_type": "code",
   "execution_count": 31,
   "id": "7c0b5aac",
   "metadata": {},
   "outputs": [
    {
     "name": "stdout",
     "output_type": "stream",
     "text": [
      "25\n"
     ]
    }
   ],
   "source": [
    "'''This helps test if you can be able to access values in a dictionary\n",
    "Dictionary syntax is key and values '''\n",
    "\n",
    "person = {\n",
    "    \"name\":\"Kevni\",\n",
    "    \"age\":25,\n",
    "    \"country\":\"Kenya\"\n",
    "}\n",
    "print(person[\"age\"])"
   ]
  },
  {
   "cell_type": "markdown",
   "id": "50d86091",
   "metadata": {},
   "source": [
    "## 10. Write a program to convert a tuple (2, 4, 6, 8) into a list and print it."
   ]
  },
  {
   "cell_type": "code",
   "execution_count": 33,
   "id": "1010828f",
   "metadata": {},
   "outputs": [
    {
     "name": "stdout",
     "output_type": "stream",
     "text": [
      "[2, 4, 6, 8]\n"
     ]
    }
   ],
   "source": [
    "tuplelist = (2, 4, 6, 8)\n",
    "new_tuple_list = list(tuplelist)\n",
    "print(new_tuple_list)"
   ]
  },
  {
   "cell_type": "markdown",
   "id": "a00ae743",
   "metadata": {},
   "source": []
  }
 ],
 "metadata": {
  "kernelspec": {
   "display_name": "base",
   "language": "python",
   "name": "python3"
  },
  "language_info": {
   "codemirror_mode": {
    "name": "ipython",
    "version": 3
   },
   "file_extension": ".py",
   "mimetype": "text/x-python",
   "name": "python",
   "nbconvert_exporter": "python",
   "pygments_lexer": "ipython3",
   "version": "3.12.7"
  }
 },
 "nbformat": 4,
 "nbformat_minor": 5
}
