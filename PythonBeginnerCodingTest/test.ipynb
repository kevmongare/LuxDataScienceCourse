{
 "cells": [
  {
   "cell_type": "markdown",
   "id": "8c5107c7",
   "metadata": {},
   "source": [
    "### Section A: Data Types & Basic Operations (1–10)\n"
   ]
  },
  {
   "cell_type": "markdown",
   "id": "cacd22c0",
   "metadata": {},
   "source": [
    "## 1. Create a variable called name and assign it your name. Print it."
   ]
  },
  {
   "cell_type": "code",
   "execution_count": 4,
   "id": "3eb939e0",
   "metadata": {},
   "outputs": [
    {
     "name": "stdout",
     "output_type": "stream",
     "text": [
      "Kevin M\n"
     ]
    }
   ],
   "source": [
    "name = \"Kevin M\"\n",
    "#remeber all strings have to be in either single or double quotation marks\n",
    "print(name)"
   ]
  },
  {
   "cell_type": "markdown",
   "id": "f3089757",
   "metadata": {},
   "source": [
    "## 2. Create two integer variables and print their sum, difference, product, and division."
   ]
  },
  {
   "cell_type": "code",
   "execution_count": 53,
   "id": "3612e75b",
   "metadata": {},
   "outputs": [
    {
     "name": "stdout",
     "output_type": "stream",
     "text": [
      "13\n",
      "3\n",
      "40\n",
      "1.6\n",
      "3\n",
      "1\n"
     ]
    }
   ],
   "source": [
    "x = 8\n",
    "y = 5\n",
    "#ints dont have to be in quotation marks\n",
    "sm = x + y\n",
    "diff = x - y\n",
    "prodct = x * y\n",
    "div = x / y\n",
    "remainder = x % y #you get the reminder by getting the modulas\n",
    "full_div = x // y # use 2 div signs\n",
    "\n",
    "print(sm)\n",
    "print(diff)\n",
    "print(prodct)\n",
    "print(div)\n",
    "print(remainder)\n",
    "print(full_div)\n",
    "# '''More Details learned in morning class\n",
    "# -how to get the reminder\n",
    "# -how to confirm how many times its divided'''"
   ]
  },
  {
   "cell_type": "markdown",
   "id": "0cf24469",
   "metadata": {},
   "source": [
    "## 3. Write a program to swap two numbers without using a third variable."
   ]
  },
  {
   "cell_type": "code",
   "execution_count": 7,
   "id": "957278b0",
   "metadata": {},
   "outputs": [
    {
     "name": "stdout",
     "output_type": "stream",
     "text": [
      "A = 30\n",
      "B = 20\n"
     ]
    }
   ],
   "source": [
    "a = 20\n",
    "b = 30\n",
    "\n",
    "a, b = b, a\n",
    "'''\n",
    "what happens above is we are working with the arithmetic operator \n",
    "python allows reassigning of variables so initially a is assigned 20 and b is assigned 30\n",
    "when we have a, b the two variables hold 20, and 30 respectively and we re assign them to the same but new \n",
    "variables b and a which makes b to be 20 a to 30\n",
    "'''\n",
    "print(\"A =\", a)\n",
    "print(\"B =\", b) "
   ]
  },
  {
   "cell_type": "code",
   "execution_count": 56,
   "id": "e4d9f9b7",
   "metadata": {},
   "outputs": [
    {
     "name": "stdout",
     "output_type": "stream",
     "text": [
      "A = 30\n",
      "B = 20\n"
     ]
    }
   ],
   "source": [
    "a = 20\n",
    "b = 30\n",
    "\n",
    "a = a + b\n",
    "b = a - b\n",
    "a = a - b\n",
    "\n",
    "print(\"A =\", a)\n",
    "print(\"B =\", b) "
   ]
  },
  {
   "cell_type": "markdown",
   "id": "aa8ca8db",
   "metadata": {},
   "source": [
    "## 4. Write a program that takes user input for age and prints “Adult” if age ≥ 18, otherwise “Minor”."
   ]
  },
  {
   "cell_type": "code",
   "execution_count": 9,
   "id": "74703f22",
   "metadata": {},
   "outputs": [
    {
     "name": "stdout",
     "output_type": "stream",
     "text": [
      "You are a Minor\n"
     ]
    }
   ],
   "source": [
    "age = int(input(\"Enter Age: \"))\n",
    "'''On the above question they are testing on variables input key word and  if else statement'''\n",
    "if age >= 18:\n",
    "    print(\"You are an Adult\")\n",
    "else:\n",
    "    print(\"You are a Minor\")"
   ]
  },
  {
   "cell_type": "code",
   "execution_count": 57,
   "id": "66512f1e",
   "metadata": {},
   "outputs": [
    {
     "name": "stdout",
     "output_type": "stream",
     "text": [
      "You are an Adult\n"
     ]
    }
   ],
   "source": [
    "def confirm(age):\n",
    "    if age >= 18 :\n",
    "            print(\"You are an Adult\")\n",
    "    else:\n",
    "        print(\"You are a Minor\")\n",
    "confirm(int(input(\"Kindly share your Age\")))\n",
    "\n"
   ]
  },
  {
   "cell_type": "markdown",
   "id": "2b116056",
   "metadata": {},
   "source": [
    "## 5. Given a string \"programming\", print the number of times the letter 'g' appears.\n"
   ]
  },
  {
   "cell_type": "code",
   "execution_count": 13,
   "id": "1d4b87a9",
   "metadata": {},
   "outputs": [
    {
     "name": "stdout",
     "output_type": "stream",
     "text": [
      "G Appears 2 Times\n"
     ]
    }
   ],
   "source": [
    "\"\"\"The above is used to test if you know the keyword count or  for loop\"\"\"\n",
    "string_p = \"programming\"\n",
    "count_g = string_p.count('g')\n",
    "print(\"G Appears\", count_g, \"Times\")\n"
   ]
  },
  {
   "cell_type": "markdown",
   "id": "75546db1",
   "metadata": {},
   "source": [
    "you can use the lower one for interviews"
   ]
  },
  {
   "cell_type": "code",
   "execution_count": 11,
   "id": "d9ef530c",
   "metadata": {},
   "outputs": [
    {
     "name": "stdout",
     "output_type": "stream",
     "text": [
      "The letter 'g' appears 2 times\n"
     ]
    }
   ],
   "source": [
    "text = \"programming\"\n",
    "count_g = 0\n",
    "\n",
    "for letter in text:\n",
    "    if letter == 'g':\n",
    "        count_g += 1\n",
    "\n",
    "print(\"The letter 'g' appears\", count_g, \"times\")\n"
   ]
  },
  {
   "cell_type": "markdown",
   "id": "e8c33613",
   "metadata": {},
   "source": [
    "## 6. Write a program that converts a given string \"100\" to an integer and adds 25 to it.\n"
   ]
  },
  {
   "cell_type": "code",
   "execution_count": 15,
   "id": "f6fb47ca",
   "metadata": {},
   "outputs": [
    {
     "name": "stdout",
     "output_type": "stream",
     "text": [
      "The sum of the string \"100\" and 25 is 125\n"
     ]
    }
   ],
   "source": [
    "'''The above question is to check if we can convert a string to int'''\n",
    "str_Int = \"100\"\n",
    "sum = int(str_Int) + 25\n",
    "print(\"The sum of the string \\\"100\\\" and 25 is\", sum)"
   ]
  },
  {
   "cell_type": "markdown",
   "id": "c225c290",
   "metadata": {},
   "source": [
    "## 7. Write a program to find the largest number in the list [4, 9, 1, 7, 3]."
   ]
  },
  {
   "cell_type": "code",
   "execution_count": 17,
   "id": "0af30fe2",
   "metadata": {},
   "outputs": [
    {
     "name": "stdout",
     "output_type": "stream",
     "text": [
      "The largest number is: 9\n"
     ]
    }
   ],
   "source": [
    "numbers = [4, 9, 1, 7, 3] #we have initialised the list\n",
    "largest = numbers[0] \n",
    "'''\n",
    "we are creating a variable called largest and \n",
    "assigning it an initial value of the number that is on index 0\n",
    "'''\n",
    "for number in numbers:\n",
    "    '''\n",
    "    We are not using loop to check each value as \n",
    "    from index 0 from the list numbers we are temporarily storing the value in \n",
    "    a variable number and after confirming the number is the biggest we return it as the largest\n",
    "    '''\n",
    "    if number > largest:\n",
    "        largest = number\n",
    "        \n",
    "\n",
    "print(\"The largest number is:\", largest)\n"
   ]
  },
  {
   "cell_type": "code",
   "execution_count": null,
   "id": "1097fd8f",
   "metadata": {},
   "outputs": [],
   "source": [
    "numbers = [4, 9, 1, 7, 3]\n",
    "max"
   ]
  },
  {
   "cell_type": "markdown",
   "id": "40ab33b4",
   "metadata": {},
   "source": [
    "## 8. Write a program to reverse the list [1, 2, 3, 4, 5]."
   ]
  },
  {
   "cell_type": "code",
   "execution_count": 25,
   "id": "6f9ce944",
   "metadata": {},
   "outputs": [
    {
     "name": "stdout",
     "output_type": "stream",
     "text": [
      "[5, 4, 3, 2, 1]\n"
     ]
    }
   ],
   "source": [
    "lst = [1, 2, 3, 4, 5]\n",
    "reversed_list = lst[::-1]\n",
    "print(reversed_list)"
   ]
  },
  {
   "cell_type": "code",
   "execution_count": 26,
   "id": "eef45132",
   "metadata": {},
   "outputs": [
    {
     "name": "stdout",
     "output_type": "stream",
     "text": [
      "The reversed list is : [5, 4, 3, 2, 1]\n"
     ]
    }
   ],
   "source": [
    "lst = [1, 2, 3, 4, 5]\n",
    "reversed_list =[]\n",
    "for i in range(len(lst)-1,-1,-1):\n",
    "    reversed_list.append(lst[i])\n",
    "print(\"The reversed list is :\", reversed_list)"
   ]
  },
  {
   "cell_type": "code",
   "execution_count": 60,
   "id": "ab11f21a",
   "metadata": {},
   "outputs": [
    {
     "name": "stdout",
     "output_type": "stream",
     "text": [
      "[5, 4, 3, 2, 1]\n"
     ]
    }
   ],
   "source": [
    "lst = [1, 2, 3, 4, 5]\n",
    "lst.reverse()  # reverses lst in place\n",
    "print(lst)\n"
   ]
  },
  {
   "cell_type": "markdown",
   "id": "8c6f3d64",
   "metadata": {},
   "source": [
    "## 9. Create a dictionary with keys name, age, and country, and print the value of age."
   ]
  },
  {
   "cell_type": "code",
   "execution_count": 31,
   "id": "7c0b5aac",
   "metadata": {},
   "outputs": [
    {
     "name": "stdout",
     "output_type": "stream",
     "text": [
      "25\n"
     ]
    }
   ],
   "source": [
    "'''This helps test if you can be able to access values in a dictionary\n",
    "Dictionary syntax is key and values '''\n",
    "\n",
    "person = {\n",
    "    \"name\":\"Kevni\",\n",
    "    \"age\":25,\n",
    "    \"country\":\"Kenya\"\n",
    "}\n",
    "print(person[\"age\"])"
   ]
  },
  {
   "cell_type": "markdown",
   "id": "50d86091",
   "metadata": {},
   "source": [
    "## 10. Write a program to convert a tuple (2, 4, 6, 8) into a list and print it."
   ]
  },
  {
   "cell_type": "code",
   "execution_count": 33,
   "id": "1010828f",
   "metadata": {},
   "outputs": [
    {
     "name": "stdout",
     "output_type": "stream",
     "text": [
      "[2, 4, 6, 8]\n"
     ]
    }
   ],
   "source": [
    "tuplelist = (2, 4, 6, 8)\n",
    "new_tuple_list = list(tuplelist)\n",
    "print(new_tuple_list)"
   ]
  },
  {
   "cell_type": "code",
   "execution_count": null,
   "id": "a68b94f2",
   "metadata": {},
   "outputs": [],
   "source": [
    "tuplelist = (2, 4, 6, 8)"
   ]
  },
  {
   "cell_type": "markdown",
   "id": "7101af4c",
   "metadata": {},
   "source": [
    "where to use the above\n",
    "\n",
    "index bassed deletion \n",
    "data cleaning "
   ]
  },
  {
   "cell_type": "markdown",
   "id": "58c8ed1d",
   "metadata": {},
   "source": [
    "### Section B: Conditional Statements (11–18)"
   ]
  },
  {
   "cell_type": "markdown",
   "id": "1a642435",
   "metadata": {},
   "source": [
    "## 11. Write a program to check whether a number entered by the user is even or odd."
   ]
  },
  {
   "cell_type": "code",
   "execution_count": null,
   "id": "824ad1a6",
   "metadata": {},
   "outputs": [
    {
     "name": "stdout",
     "output_type": "stream",
     "text": [
      "The number 5 is odd\n"
     ]
    }
   ],
   "source": [
    "x = int(input(\"Enter Your Number\"))\n",
    "if x %2 ==0:\n",
    "    print(f\"The number {x} is Even Number\")\n",
    "else:\n",
    "    print(f\"The number {x} is odd Number\")"
   ]
  },
  {
   "cell_type": "markdown",
   "id": "6a64dbee",
   "metadata": {},
   "source": [
    "## 12. Write a program to check if a given number is positive, negative, or zero."
   ]
  },
  {
   "cell_type": "code",
   "execution_count": 39,
   "id": "cbef8e3a",
   "metadata": {},
   "outputs": [
    {
     "name": "stdout",
     "output_type": "stream",
     "text": [
      "The nuber shared -1 is Negative\n"
     ]
    }
   ],
   "source": [
    "y = int(input(\"Enter your Number: \"))\n",
    "if y >=0:\n",
    "    print(f\"The number shared {y} is Positive\")\n",
    "else:\n",
    "    print(f\"The nuber shared {y} is Negative\")"
   ]
  },
  {
   "cell_type": "markdown",
   "id": "5dde5e6d",
   "metadata": {},
   "source": [
    "## 13. Write a program to check if a given year is a leap year."
   ]
  },
  {
   "cell_type": "code",
   "execution_count": 41,
   "id": "6f523b2c",
   "metadata": {},
   "outputs": [
    {
     "name": "stdout",
     "output_type": "stream",
     "text": [
      "2020 is a leap year\n"
     ]
    }
   ],
   "source": [
    "year = int(input(\"Enter a year: \"))\n",
    "\n",
    "if (year % 400 == 0):\n",
    "    print(year, \"is a leap year\")\n",
    "elif (year % 100 == 0):\n",
    "    print(year, \"is not a leap year\")\n",
    "elif (year % 4 == 0):\n",
    "    print(year, \"is a leap year\")\n",
    "else:\n",
    "    print(year, \"is not a leap year\")\n"
   ]
  },
  {
   "cell_type": "markdown",
   "id": "17dd02b1",
   "metadata": {},
   "source": [
    "## 14. Write a program that takes two numbers and prints which one is greater.\n"
   ]
  },
  {
   "cell_type": "code",
   "execution_count": 43,
   "id": "808bcb42",
   "metadata": {},
   "outputs": [
    {
     "name": "stdout",
     "output_type": "stream",
     "text": [
      "Number 1 '10' is greater\n"
     ]
    }
   ],
   "source": [
    "number_1 = int(input(\"Enter Your First Number: \"))\n",
    "number_2 = int(input(\"Enter Your Second Number: \"))\n",
    "\n",
    "if number_1 > number_2:\n",
    "    print(f\"Number 1 '{number_1}' is greater\")\n",
    "else:\n",
    "    print(f\"Number 2 '{number_2}' is greater\")"
   ]
  },
  {
   "cell_type": "markdown",
   "id": "ffd0bfb1",
   "metadata": {},
   "source": [
    "## 15. Write a program that takes marks as input and prints “Pass” if marks ≥ 50, otherwise “Fail”."
   ]
  },
  {
   "cell_type": "code",
   "execution_count": 45,
   "id": "ab393103",
   "metadata": {},
   "outputs": [
    {
     "name": "stdout",
     "output_type": "stream",
     "text": [
      "Fail\n"
     ]
    }
   ],
   "source": [
    "marks = int(input(\"What are your scores: \"))\n",
    "if marks >= 50:\n",
    "    print(\"Pass\")\n",
    "else:\n",
    "    print(\"Fail\")"
   ]
  },
  {
   "cell_type": "markdown",
   "id": "eaa97ae7",
   "metadata": {},
   "source": [
    "## 16. Write a program that checks whether a character entered by the user is a vowel or consonant."
   ]
  },
  {
   "cell_type": "code",
   "execution_count": 62,
   "id": "eb9f491b",
   "metadata": {},
   "outputs": [
    {
     "name": "stdout",
     "output_type": "stream",
     "text": [
      "a is a vowel.\n"
     ]
    }
   ],
   "source": [
    "# Get input from the user\n",
    "char = input(\"Enter a single character: \").lower()  # Convert to lowercase for uniformity\n",
    "\n",
    "# Check if the input is a single alphabet character\n",
    "if len(char) == 1 and char.isalpha():\n",
    "    # Check if the character is a vowel\n",
    "    if char in \"aeiou\":\n",
    "        print(f\"{char} is a vowel.\")\n",
    "    else:\n",
    "        print(f\"{char} is a consonant.\")\n",
    "else:\n",
    "    print(\"Numbers are not allowed\")\n"
   ]
  },
  {
   "cell_type": "markdown",
   "id": "7e7f3bac",
   "metadata": {},
   "source": [
    "## 17. Write a program that takes three numbers and prints the largest among them."
   ]
  },
  {
   "cell_type": "code",
   "execution_count": 68,
   "id": "1d3322eb",
   "metadata": {},
   "outputs": [
    {
     "name": "stdout",
     "output_type": "stream",
     "text": [
      "The largest number is: 6\n"
     ]
    }
   ],
   "source": [
    "# Take input from the user\n",
    "number_1 = int(input(\"Enter Number 1: \"))\n",
    "number_2 = int(input(\"Enter Number 2: \"))\n",
    "number_3 = int(input(\"Enter Number 3: \"))\n",
    "\n",
    "# Find the largest number\n",
    "largest_number = max(number_1, number_2, number_3)\n",
    "\n",
    "# Print the result\n",
    "print(f\"The largest number is: {largest_number}\")\n"
   ]
  },
  {
   "cell_type": "code",
   "execution_count": 70,
   "id": "0bd7c12a",
   "metadata": {},
   "outputs": [
    {
     "name": "stdout",
     "output_type": "stream",
     "text": [
      "15 is divisible by both 3 and 5\n"
     ]
    }
   ],
   "source": [
    "# Take input from user\n",
    "number = int(input(\"Enter a number: \"))\n",
    "\n",
    "# Check if divisible by both 3 and 5\n",
    "if number % 3 == 0 and number % 5 == 0:\n",
    "    print(number, \"is divisible by both 3 and 5\")\n",
    "else:\n",
    "    print(number, \"is not divisible by both 3 and 5\")\n"
   ]
  },
  {
   "cell_type": "markdown",
   "id": "11e29c6f",
   "metadata": {},
   "source": [
    "## 18. Write a program that prints numbers from 1 to 10 using a for loop.\n"
   ]
  },
  {
   "cell_type": "code",
   "execution_count": 73,
   "id": "bb9cba9d",
   "metadata": {},
   "outputs": [
    {
     "name": "stdout",
     "output_type": "stream",
     "text": [
      "1\n",
      "2\n",
      "3\n",
      "4\n",
      "5\n",
      "6\n",
      "7\n",
      "8\n",
      "9\n",
      "10\n"
     ]
    }
   ],
   "source": [
    "def prog():\n",
    "    for i in range (1,11):\n",
    "        print(i)\n",
    "prog()"
   ]
  },
  {
   "cell_type": "markdown",
   "id": "dbc03eba",
   "metadata": {},
   "source": [
    "## 19. Write a program that prints all even numbers from 1 to 20.\n"
   ]
  },
  {
   "cell_type": "code",
   "execution_count": 75,
   "id": "1dd15e4e",
   "metadata": {},
   "outputs": [
    {
     "name": "stdout",
     "output_type": "stream",
     "text": [
      "2\n",
      "4\n",
      "6\n",
      "8\n",
      "10\n",
      "12\n",
      "14\n",
      "16\n",
      "18\n",
      "20\n"
     ]
    }
   ],
   "source": [
    "def prog_even():\n",
    "\n",
    "    for x in range(1,21):\n",
    "        if x % 2 == 0:\n",
    "            print(x)\n",
    "\n",
    "prog_even()"
   ]
  },
  {
   "cell_type": "markdown",
   "id": "9a85d91b",
   "metadata": {},
   "source": [
    "## 21. Write a program that calculates the sum of all numbers from 1 to 100 using a for loop.\n"
   ]
  },
  {
   "cell_type": "code",
   "execution_count": 84,
   "id": "615f69cc",
   "metadata": {},
   "outputs": [
    {
     "name": "stdout",
     "output_type": "stream",
     "text": [
      "The total is,  5050\n"
     ]
    }
   ],
   "source": [
    "\n",
    "def sum_program():\n",
    "    k = 0\n",
    "    for l in range (1,101):\n",
    "        k += l\n",
    "    print(\"The total is, \", k)\n",
    "    \n",
    "sum_program()\n",
    "\n"
   ]
  },
  {
   "cell_type": "markdown",
   "id": "296ffd3f",
   "metadata": {},
   "source": [
    "## 22.  Write a program that prints each letter of the word \"PYTHON\" on a new line."
   ]
  },
  {
   "cell_type": "code",
   "execution_count": 85,
   "id": "60d08b5f",
   "metadata": {},
   "outputs": [
    {
     "name": "stdout",
     "output_type": "stream",
     "text": [
      "P\n",
      "Y\n",
      "T\n",
      "H\n",
      "O\n",
      "N\n"
     ]
    }
   ],
   "source": [
    "def print_letters():\n",
    "    p_word = \"PYTHON\"\n",
    "    for l in p_word:\n",
    "        print(l)\n",
    "print_letters()"
   ]
  },
  {
   "cell_type": "markdown",
   "id": "97e21e71",
   "metadata": {},
   "source": [
    "## 23. Write a program that counts how many numbers between 1 and 50 are divisible by 5."
   ]
  },
  {
   "cell_type": "code",
   "execution_count": 89,
   "id": "d38d7fe4",
   "metadata": {},
   "outputs": [
    {
     "name": "stdout",
     "output_type": "stream",
     "text": [
      "5\n",
      "10\n",
      "15\n",
      "20\n",
      "25\n",
      "30\n",
      "35\n",
      "40\n",
      "45\n",
      "50\n"
     ]
    }
   ],
   "source": [
    "def divisible_by_5():\n",
    "    for c in range (1, 51):\n",
    "        if (c % 5 == 0):\n",
    "            print(c)\n",
    "divisible_by_5()"
   ]
  },
  {
   "cell_type": "markdown",
   "id": "552a7778",
   "metadata": {},
   "source": [
    "## 24. Write a program that prints all elements of a list using a while loop."
   ]
  },
  {
   "cell_type": "code",
   "execution_count": 90,
   "id": "5bf065f1",
   "metadata": {},
   "outputs": [
    {
     "name": "stdout",
     "output_type": "stream",
     "text": [
      "10\n",
      "20\n",
      "30\n",
      "40\n",
      "50\n"
     ]
    }
   ],
   "source": [
    "# Create a list\n",
    "numbers = [10, 20, 30, 40, 50]\n",
    "\n",
    "# Initialize index\n",
    "i = 0\n",
    "\n",
    "# Use while loop to print each element\n",
    "while i < len(numbers):\n",
    "    print(numbers[i])\n",
    "    i += 1\n"
   ]
  },
  {
   "cell_type": "markdown",
   "id": "61437a64",
   "metadata": {},
   "source": [
    "## 25. Write a program that finds the factorial of a given number using a loop.\n"
   ]
  },
  {
   "cell_type": "code",
   "execution_count": 91,
   "id": "ebe6397c",
   "metadata": {},
   "outputs": [
    {
     "name": "stdout",
     "output_type": "stream",
     "text": [
      "5040\n"
     ]
    }
   ],
   "source": [
    "num = int(input(\"Enetr number\"))\n",
    "fact = 1\n",
    "for i in range(1, num+1):\n",
    "    fact *= i\n",
    "print(fact)"
   ]
  },
  {
   "cell_type": "markdown",
   "id": "04c2b4b2",
   "metadata": {},
   "source": [
    "## 26. Write a program that prints all numbers between 1 and 30 that are divisible by both 2 and 3.\n",
    "\n",
    "\n"
   ]
  },
  {
   "cell_type": "code",
   "execution_count": 92,
   "id": "6087e759",
   "metadata": {},
   "outputs": [
    {
     "name": "stdout",
     "output_type": "stream",
     "text": [
      "6\n",
      "12\n",
      "18\n",
      "24\n",
      "30\n"
     ]
    }
   ],
   "source": [
    "def div_by_2_3():\n",
    "    for i in range(1, 31):\n",
    "        if i % 2 ==0 and i % 3 == 0:\n",
    "            print(i)\n",
    "div_by_2_3()\n"
   ]
  },
  {
   "cell_type": "markdown",
   "id": "e9cff40b",
   "metadata": {},
   "source": [
    "## 27. Write a program that prints the squares of all numbers from 1 to 10."
   ]
  },
  {
   "cell_type": "code",
   "execution_count": 93,
   "id": "c33a3bb0",
   "metadata": {},
   "outputs": [
    {
     "name": "stdout",
     "output_type": "stream",
     "text": [
      "1\n",
      "4\n",
      "9\n",
      "16\n",
      "25\n",
      "36\n",
      "49\n",
      "64\n",
      "81\n",
      "100\n"
     ]
    }
   ],
   "source": [
    "def square_of_numbers():\n",
    "    for i in range(1, 11):\n",
    "        sq = i * i\n",
    "        print(sq)\n",
    "square_of_numbers()"
   ]
  },
  {
   "cell_type": "markdown",
   "id": "df223643",
   "metadata": {},
   "source": [
    "## 28. Write a program using nested loops to print all pairs (i, j) where i and j range from 1 to 3."
   ]
  },
  {
   "cell_type": "code",
   "execution_count": null,
   "id": "479e9a67",
   "metadata": {},
   "outputs": [],
   "source": []
  },
  {
   "cell_type": "markdown",
   "id": "4d4441e0",
   "metadata": {},
   "source": [
    "### Section D: Functions (29–36)"
   ]
  },
  {
   "cell_type": "markdown",
   "id": "f025eb08",
   "metadata": {},
   "source": [
    "## 29. Write a function called greet() that prints “Hello, World!”.\n"
   ]
  },
  {
   "cell_type": "code",
   "execution_count": 94,
   "id": "132279f2",
   "metadata": {},
   "outputs": [
    {
     "name": "stdout",
     "output_type": "stream",
     "text": [
      "Hello, World!\n"
     ]
    }
   ],
   "source": [
    "grt = \"Hello, World!\"\n",
    "def greet():\n",
    "    print(grt)\n",
    "\n",
    "greet()"
   ]
  },
  {
   "cell_type": "markdown",
   "id": "181e245e",
   "metadata": {},
   "source": [
    "## 30. Write a function that takes a name as an argument and prints “Hello, !”."
   ]
  },
  {
   "cell_type": "code",
   "execution_count": 100,
   "id": "9bb8b3fc",
   "metadata": {},
   "outputs": [
    {
     "name": "stdout",
     "output_type": "stream",
     "text": [
      "Hello, kevin!\n"
     ]
    }
   ],
   "source": [
    "def greet_name():\n",
    "    name = input(\"Kindly share your name: \")\n",
    "    print(f\"Hello, {name}!\")\n",
    "\n",
    "greet_name()"
   ]
  },
  {
   "cell_type": "markdown",
   "id": "5cde749c",
   "metadata": {},
   "source": [
    "## 31. Write a function that takes two numbers and returns their sum."
   ]
  },
  {
   "cell_type": "code",
   "execution_count": 101,
   "id": "2ea23d63",
   "metadata": {},
   "outputs": [
    {
     "name": "stdout",
     "output_type": "stream",
     "text": [
      "10\n"
     ]
    }
   ],
   "source": [
    "def two_numbers():\n",
    "    number_3 = int(input(\"Enter 1st number: \"))\n",
    "    number_4 = int(input(\"Enter 2nd number: \"))\n",
    "    sm = number_3 + number_4\n",
    "    print(sm)\n",
    "\n",
    "two_numbers()"
   ]
  },
  {
   "cell_type": "markdown",
   "id": "ec98713a",
   "metadata": {},
   "source": [
    "## 32. Write a function that returns the largest of three numbers."
   ]
  },
  {
   "cell_type": "code",
   "execution_count": 105,
   "id": "fd815510",
   "metadata": {},
   "outputs": [
    {
     "name": "stdout",
     "output_type": "stream",
     "text": [
      "6\n"
     ]
    }
   ],
   "source": [
    "def lgst():\n",
    "    x = int(input(\"Enter Your first number\"))\n",
    "    y = int(input(\"Enter Your second number\"))\n",
    "    z = int(input(\"Enter your Third number\"))\n",
    "    largest = max(x,y,z)\n",
    "    print(largest)\n",
    "lgst()"
   ]
  }
 ],
 "metadata": {
  "kernelspec": {
   "display_name": "base",
   "language": "python",
   "name": "python3"
  },
  "language_info": {
   "codemirror_mode": {
    "name": "ipython",
    "version": 3
   },
   "file_extension": ".py",
   "mimetype": "text/x-python",
   "name": "python",
   "nbconvert_exporter": "python",
   "pygments_lexer": "ipython3",
   "version": "3.12.7"
  }
 },
 "nbformat": 4,
 "nbformat_minor": 5
}
