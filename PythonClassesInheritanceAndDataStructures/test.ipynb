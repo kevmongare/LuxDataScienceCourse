{
 "cells": [
  {
   "cell_type": "markdown",
   "id": "ee410e93",
   "metadata": {},
   "source": [
    "# ======================================================\n",
    "# SECTION 1: BASIC CLASSES (Q1–Q10)\n",
    "# ======================================================"
   ]
  },
  {
   "cell_type": "markdown",
   "id": "5458e442",
   "metadata": {},
   "source": [
    "Q1. Create a class Car with attributes brand and model, and print them.\n"
   ]
  },
  {
   "cell_type": "code",
   "execution_count": 1,
   "id": "b9b12625",
   "metadata": {},
   "outputs": [
    {
     "name": "stdout",
     "output_type": "stream",
     "text": [
      "Toyota Corolla\n"
     ]
    }
   ],
   "source": [
    "class Car:\n",
    "    def __init__(self, brand, model):\n",
    "        self.brand = brand\n",
    "        self.model = model\n",
    "\n",
    "car = Car(\"Toyota\", \"Corolla\")\n",
    "print(car.brand, car.model)"
   ]
  },
  {
   "cell_type": "markdown",
   "id": "d319fd69",
   "metadata": {},
   "source": [
    "Q2. Write a class Student with attributes name and age. Create two objects and display their attributes.\n"
   ]
  },
  {
   "cell_type": "code",
   "execution_count": 3,
   "id": "130a57d1",
   "metadata": {},
   "outputs": [
    {
     "name": "stdout",
     "output_type": "stream",
     "text": [
      "Kevin 26\n",
      "John 19\n"
     ]
    }
   ],
   "source": [
    "class Student:\n",
    "    def __init__(self, name, age):\n",
    "        self.name = name\n",
    "        self.age = age\n",
    "\n",
    "student1 = Student(\"Kevin\", 26)\n",
    "student2 = Student(\"John\", 19)\n",
    "\n",
    "print(student1.name, student1.age)\n",
    "print(student2.name, student2.age)"
   ]
  },
  {
   "cell_type": "markdown",
   "id": "8c0b3d4b",
   "metadata": {},
   "source": [
    "Define a class Rectangle that takes length and width, and has a method area() that returns the area."
   ]
  },
  {
   "cell_type": "code",
   "execution_count": 6,
   "id": "706da452",
   "metadata": {},
   "outputs": [
    {
     "name": "stdout",
     "output_type": "stream",
     "text": [
      "40\n"
     ]
    }
   ],
   "source": [
    "class Rectangle:\n",
    "    def __init__(self, length, width):\n",
    "        self.length =length\n",
    "        self.width =width\n",
    "    \n",
    "    def area(self):\n",
    "        area = self.length * self.width\n",
    "        return area\n",
    "        \n",
    "rect = Rectangle( 5,8)\n",
    "print(rect.area())"
   ]
  },
  {
   "cell_type": "markdown",
   "id": "77c3c8ad",
   "metadata": {},
   "source": [
    "Create a class Circle with a method to compute its circumference and area."
   ]
  },
  {
   "cell_type": "code",
   "execution_count": 7,
   "id": "668abf5f",
   "metadata": {},
   "outputs": [
    {
     "name": "stdout",
     "output_type": "stream",
     "text": [
      "Area: 153.93804002589985 | Circumference: 43.982297150257104\n"
     ]
    }
   ],
   "source": [
    "import math\n",
    "\n",
    "class Circle:\n",
    "    def __init__(self, radius):\n",
    "        self.radius = radius\n",
    "\n",
    "    def area(self):\n",
    "        return math.pi * self.radius ** 2\n",
    "\n",
    "    def circumference(self):\n",
    "        return 2 * math.pi * self.radius\n",
    "\n",
    "circle = Circle(7)\n",
    "print(\"Area:\", circle.area(), \"| Circumference:\", circle.circumference())"
   ]
  },
  {
   "cell_type": "markdown",
   "id": "46c2eefc",
   "metadata": {},
   "source": [
    "Write a class BankAccount with deposit() and withdraw() methods. Ensure balance never goes below 0.\n"
   ]
  },
  {
   "cell_type": "code",
   "execution_count": 8,
   "id": "a1277850",
   "metadata": {},
   "outputs": [
    {
     "name": "stdout",
     "output_type": "stream",
     "text": [
      "Balance: 700\n"
     ]
    }
   ],
   "source": [
    "class BankAccount:\n",
    "    def __init__(self, balance=0):\n",
    "        self.balance = balance\n",
    "\n",
    "    def deposit(self, amount):\n",
    "        self.balance += amount\n",
    "\n",
    "    def withdraw(self, amount):\n",
    "        if amount <= self.balance:\n",
    "            self.balance -= amount\n",
    "        else:\n",
    "            print(\"Insufficient balance!\")\n",
    "\n",
    "account = BankAccount(1000)\n",
    "account.withdraw(300)\n",
    "print(\"Balance:\", account.balance)"
   ]
  },
  {
   "cell_type": "markdown",
   "id": "7770dd42",
   "metadata": {},
   "source": [
    "Q6. Create a Book class that stores title, author, and year. Add a __str__() method for clean printing."
   ]
  },
  {
   "cell_type": "code",
   "execution_count": 9,
   "id": "96b52899",
   "metadata": {},
   "outputs": [
    {
     "name": "stdout",
     "output_type": "stream",
     "text": [
      "1984 by George Orwell (1949)\n"
     ]
    }
   ],
   "source": [
    "class Book:\n",
    "    def __init__(self, title, author, year):\n",
    "        self.title = title\n",
    "        self.author = author\n",
    "        self.year = year\n",
    "\n",
    "    def __str__(self):\n",
    "        return f\"{self.title} by {self.author} ({self.year})\"\n",
    "\n",
    "book = Book(\"1984\", \"George Orwell\", 1949)\n",
    "print(book)"
   ]
  },
  {
   "cell_type": "markdown",
   "id": "04528132",
   "metadata": {},
   "source": [
    "Write a class Temperature that can convert Celsius to Fahrenheit and vice versa."
   ]
  },
  {
   "cell_type": "code",
   "execution_count": 10,
   "id": "e4630a9f",
   "metadata": {},
   "outputs": [
    {
     "name": "stdout",
     "output_type": "stream",
     "text": [
      "25°C = 77.0 °F\n"
     ]
    }
   ],
   "source": [
    "class Temperature:\n",
    "    @staticmethod\n",
    "    def c_to_f(c):\n",
    "        return (c * 9/5) + 32\n",
    "\n",
    "    @staticmethod\n",
    "    def f_to_c(f):\n",
    "        return (f - 32) * 5/9\n",
    "\n",
    "print(\"25°C =\", Temperature.c_to_f(25), \"°F\")\n"
   ]
  }
 ],
 "metadata": {
  "kernelspec": {
   "display_name": "base",
   "language": "python",
   "name": "python3"
  },
  "language_info": {
   "codemirror_mode": {
    "name": "ipython",
    "version": 3
   },
   "file_extension": ".py",
   "mimetype": "text/x-python",
   "name": "python",
   "nbconvert_exporter": "python",
   "pygments_lexer": "ipython3",
   "version": "3.12.7"
  }
 },
 "nbformat": 4,
 "nbformat_minor": 5
}
