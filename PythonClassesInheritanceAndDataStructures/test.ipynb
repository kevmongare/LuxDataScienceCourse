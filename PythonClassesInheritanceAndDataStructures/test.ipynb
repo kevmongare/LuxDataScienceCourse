{
 "cells": [
  {
   "cell_type": "markdown",
   "id": "ee410e93",
   "metadata": {},
   "source": [
    "# ======================================================\n",
    "# SECTION 1: BASIC CLASSES (Q1–Q10)\n",
    "# ======================================================"
   ]
  },
  {
   "cell_type": "markdown",
   "id": "5458e442",
   "metadata": {},
   "source": [
    "Q1. Create a class Car with attributes brand and model, and print them.\n"
   ]
  },
  {
   "cell_type": "code",
   "execution_count": 1,
   "id": "b9b12625",
   "metadata": {},
   "outputs": [
    {
     "name": "stdout",
     "output_type": "stream",
     "text": [
      "Toyota Corolla\n"
     ]
    }
   ],
   "source": [
    "class Car:\n",
    "    def __init__(self, brand, model):\n",
    "        self.brand = brand\n",
    "        self.model = model\n",
    "\n",
    "car = Car(\"Toyota\", \"Corolla\")\n",
    "print(car.brand, car.model)"
   ]
  },
  {
   "cell_type": "markdown",
   "id": "d319fd69",
   "metadata": {},
   "source": [
    "Q2. Write a class Student with attributes name and age. Create two objects and display their attributes.\n"
   ]
  },
  {
   "cell_type": "code",
   "execution_count": 3,
   "id": "130a57d1",
   "metadata": {},
   "outputs": [
    {
     "name": "stdout",
     "output_type": "stream",
     "text": [
      "Kevin 26\n",
      "John 19\n"
     ]
    }
   ],
   "source": [
    "class Student:\n",
    "    def __init__(self, name, age):\n",
    "        self.name = name\n",
    "        self.age = age\n",
    "\n",
    "student1 = Student(\"Kevin\", 26)\n",
    "student2 = Student(\"John\", 19)\n",
    "\n",
    "print(student1.name, student1.age)\n",
    "print(student2.name, student2.age)"
   ]
  },
  {
   "cell_type": "markdown",
   "id": "8c0b3d4b",
   "metadata": {},
   "source": [
    "Define a class Rectangle that takes length and width, and has a method area() that returns the area."
   ]
  },
  {
   "cell_type": "code",
   "execution_count": 6,
   "id": "706da452",
   "metadata": {},
   "outputs": [
    {
     "name": "stdout",
     "output_type": "stream",
     "text": [
      "40\n"
     ]
    }
   ],
   "source": [
    "class Rectangle:\n",
    "    def __init__(self, length, width):\n",
    "        self.length =length\n",
    "        self.width =width\n",
    "    \n",
    "    def area(self):\n",
    "        area = self.length * self.width\n",
    "        return area\n",
    "        \n",
    "rect = Rectangle( 5,8)\n",
    "print(rect.area())"
   ]
  },
  {
   "cell_type": "markdown",
   "id": "77c3c8ad",
   "metadata": {},
   "source": [
    "Create a class Circle with a method to compute its circumference and area."
   ]
  },
  {
   "cell_type": "code",
   "execution_count": 7,
   "id": "668abf5f",
   "metadata": {},
   "outputs": [
    {
     "name": "stdout",
     "output_type": "stream",
     "text": [
      "Area: 153.93804002589985 | Circumference: 43.982297150257104\n"
     ]
    }
   ],
   "source": [
    "import math\n",
    "\n",
    "class Circle:\n",
    "    def __init__(self, radius):\n",
    "        self.radius = radius\n",
    "\n",
    "    def area(self):\n",
    "        return math.pi * self.radius ** 2\n",
    "\n",
    "    def circumference(self):\n",
    "        return 2 * math.pi * self.radius\n",
    "\n",
    "circle = Circle(7)\n",
    "print(\"Area:\", circle.area(), \"| Circumference:\", circle.circumference())"
   ]
  },
  {
   "cell_type": "markdown",
   "id": "46c2eefc",
   "metadata": {},
   "source": [
    "Write a class BankAccount with deposit() and withdraw() methods. Ensure balance never goes below 0.\n"
   ]
  },
  {
   "cell_type": "code",
   "execution_count": 8,
   "id": "a1277850",
   "metadata": {},
   "outputs": [
    {
     "name": "stdout",
     "output_type": "stream",
     "text": [
      "Balance: 700\n"
     ]
    }
   ],
   "source": [
    "class BankAccount:\n",
    "    def __init__(self, balance=0):\n",
    "        self.balance = balance\n",
    "\n",
    "    def deposit(self, amount):\n",
    "        self.balance += amount\n",
    "\n",
    "    def withdraw(self, amount):\n",
    "        if amount <= self.balance:\n",
    "            self.balance -= amount\n",
    "        else:\n",
    "            print(\"Insufficient balance!\")\n",
    "\n",
    "account = BankAccount(1000)\n",
    "account.withdraw(300)\n",
    "print(\"Balance:\", account.balance)"
   ]
  },
  {
   "cell_type": "markdown",
   "id": "7770dd42",
   "metadata": {},
   "source": [
    "Q6. Create a Book class that stores title, author, and year. Add a __str__() method for clean printing."
   ]
  },
  {
   "cell_type": "code",
   "execution_count": 9,
   "id": "96b52899",
   "metadata": {},
   "outputs": [
    {
     "name": "stdout",
     "output_type": "stream",
     "text": [
      "1984 by George Orwell (1949)\n"
     ]
    }
   ],
   "source": [
    "class Book:\n",
    "    def __init__(self, title, author, year):\n",
    "        self.title = title\n",
    "        self.author = author\n",
    "        self.year = year\n",
    "\n",
    "    def __str__(self):\n",
    "        return f\"{self.title} by {self.author} ({self.year})\"\n",
    "\n",
    "book = Book(\"1984\", \"George Orwell\", 1949)\n",
    "print(book)"
   ]
  },
  {
   "cell_type": "markdown",
   "id": "04528132",
   "metadata": {},
   "source": [
    "Write a class Temperature that can convert Celsius to Fahrenheit and vice versa."
   ]
  },
  {
   "cell_type": "code",
   "execution_count": 10,
   "id": "e4630a9f",
   "metadata": {},
   "outputs": [
    {
     "name": "stdout",
     "output_type": "stream",
     "text": [
      "25°C = 77.0 °F\n"
     ]
    }
   ],
   "source": [
    "class Temperature:\n",
    "    @staticmethod\n",
    "    def c_to_f(c):\n",
    "        return (c * 9/5) + 32\n",
    "\n",
    "    @staticmethod\n",
    "    def f_to_c(f):\n",
    "        return (f - 32) * 5/9\n",
    "\n",
    "print(\"25°C =\", Temperature.c_to_f(25), \"°F\")\n"
   ]
  },
  {
   "cell_type": "markdown",
   "id": "4feac63c",
   "metadata": {},
   "source": [
    "Define a class Counter with an internal variable that increases every time increment() is called."
   ]
  },
  {
   "cell_type": "code",
   "execution_count": 11,
   "id": "052d944c",
   "metadata": {},
   "outputs": [
    {
     "name": "stdout",
     "output_type": "stream",
     "text": [
      "Count: 2\n"
     ]
    }
   ],
   "source": [
    "class Counter:\n",
    "    def __init__(self):\n",
    "        self.count = 0\n",
    "\n",
    "    def increment(self):\n",
    "        self.count += 1\n",
    "\n",
    "counter = Counter()\n",
    "counter.increment()\n",
    "counter.increment()\n",
    "print(\"Count:\", counter.count)"
   ]
  },
  {
   "cell_type": "markdown",
   "id": "aa8c51c2",
   "metadata": {},
   "source": [
    "Write a class Calculator that can add, subtract, multiply, and divide two numbers.\n"
   ]
  },
  {
   "cell_type": "code",
   "execution_count": 1,
   "id": "12ea7d67",
   "metadata": {},
   "outputs": [
    {
     "name": "stdout",
     "output_type": "stream",
     "text": [
      "Add: 8\n"
     ]
    }
   ],
   "source": [
    "class Calculator:\n",
    "    def add(self, a, b): return a + b\n",
    "    def subtract(self, a, b): return a - b\n",
    "    def multiply(self, a, b): return a * b\n",
    "    def divide(self, a, b): return a / b if b != 0 else \"Error\"\n",
    "\n",
    "calc = Calculator()\n",
    "print(\"Add:\", calc.add(5, 3))"
   ]
  },
  {
   "cell_type": "markdown",
   "id": "0a15b194",
   "metadata": {},
   "source": [
    "Create a Person class that greets another person by name using a method greet()."
   ]
  },
  {
   "cell_type": "code",
   "execution_count": 2,
   "id": "61f7845a",
   "metadata": {},
   "outputs": [
    {
     "name": "stdout",
     "output_type": "stream",
     "text": [
      "Hello John, I’m Kevin!\n"
     ]
    }
   ],
   "source": [
    "class Person:\n",
    "    def __init__(self, name):\n",
    "        self.name = name\n",
    "\n",
    "    def greet(self, other):\n",
    "        print(f\"Hello {other}, I’m {self.name}!\")\n",
    "\n",
    "p = Person(\"Kevin\")\n",
    "p.greet(\"John\")"
   ]
  },
  {
   "cell_type": "markdown",
   "id": "6a7d9778",
   "metadata": {},
   "source": [
    "Create a base class Animal with a method sound(), and a subclass Dog that prints “Bark!”.\n"
   ]
  },
  {
   "cell_type": "code",
   "execution_count": 3,
   "id": "348c31ba",
   "metadata": {},
   "outputs": [
    {
     "name": "stdout",
     "output_type": "stream",
     "text": [
      "Bark!\n"
     ]
    }
   ],
   "source": [
    "class Animal:\n",
    "    def sound(self):\n",
    "        print(\"Some sound\")\n",
    "\n",
    "class Dog(Animal):\n",
    "    def sound(self):\n",
    "        print(\"Bark!\")\n",
    "\n",
    "dog = Dog()\n",
    "dog.sound()"
   ]
  },
  {
   "cell_type": "markdown",
   "id": "206258ed",
   "metadata": {},
   "source": [
    "Extend the above example with another subclass Cat that prints “Meow!”.\n"
   ]
  },
  {
   "cell_type": "code",
   "execution_count": 4,
   "id": "01c31eac",
   "metadata": {},
   "outputs": [
    {
     "name": "stdout",
     "output_type": "stream",
     "text": [
      "Meow!\n"
     ]
    }
   ],
   "source": [
    "class Cat(Animal):\n",
    "    def sound(self):\n",
    "        print(\"Meow!\")\n",
    "\n",
    "cat = Cat()\n",
    "cat.sound()"
   ]
  },
  {
   "cell_type": "markdown",
   "id": "d1dcce50",
   "metadata": {},
   "source": [
    "Write a base class Shape with an area() method. Create subclasses Square and Circle that override it.\n"
   ]
  },
  {
   "cell_type": "code",
   "execution_count": 5,
   "id": "bf3c6668",
   "metadata": {},
   "outputs": [
    {
     "name": "stdout",
     "output_type": "stream",
     "text": [
      "Square area: 16\n"
     ]
    }
   ],
   "source": [
    "class Shape:\n",
    "    def area(self):\n",
    "        pass\n",
    "\n",
    "class Square(Shape):\n",
    "    def __init__(self, side): self.side = side\n",
    "    def area(self): return self.side ** 2\n",
    "\n",
    "class CircleShape(Shape):\n",
    "    def __init__(self, radius): self.radius = radius\n",
    "    def area(self): return math.pi * self.radius ** 2\n",
    "\n",
    "print(\"Square area:\", Square(4).area())"
   ]
  },
  {
   "cell_type": "markdown",
   "id": "6eb6c869",
   "metadata": {},
   "source": [
    "Create a class Vehicle with attributes brand and wheels. Subclass Bike and Car with specific defaults.\n"
   ]
  },
  {
   "cell_type": "code",
   "execution_count": 6,
   "id": "9c5a1139",
   "metadata": {},
   "outputs": [
    {
     "name": "stdout",
     "output_type": "stream",
     "text": [
      "2\n"
     ]
    }
   ],
   "source": [
    "class Vehicle:\n",
    "    def __init__(self, brand, wheels):\n",
    "        self.brand = brand\n",
    "        self.wheels = wheels\n",
    "\n",
    "class Bike(Vehicle):\n",
    "    def __init__(self, brand):\n",
    "        super().__init__(brand, 2)\n",
    "\n",
    "class Car(Vehicle):\n",
    "    def __init__(self, brand):\n",
    "        super().__init__(brand, 4)\n",
    "\n",
    "print(Bike(\"Yamaha\").wheels)"
   ]
  },
  {
   "cell_type": "markdown",
   "id": "a839e95f",
   "metadata": {},
   "source": [
    "Implement multi-level inheritance: Person → Employee → Manager. Each should print a message from its constructor.\n"
   ]
  },
  {
   "cell_type": "code",
   "execution_count": 8,
   "id": "bf6029fe",
   "metadata": {},
   "outputs": [
    {
     "name": "stdout",
     "output_type": "stream",
     "text": [
      "Person created\n",
      "Employee created\n",
      "Manager created\n"
     ]
    }
   ],
   "source": [
    "class Person:\n",
    "    def __init__(self):\n",
    "        print(\"Person created\")\n",
    "\n",
    "class Employee(Person):\n",
    "    def __init__(self):\n",
    "        super().__init__()\n",
    "        print(\"Employee created\")\n",
    "\n",
    "class Manager(Employee):\n",
    "    def __init__(self):\n",
    "        super().__init__()\n",
    "        print(\"Manager created\")\n",
    "\n",
    "m = Manager()"
   ]
  },
  {
   "cell_type": "markdown",
   "id": "bff1249a",
   "metadata": {},
   "source": [
    "Demonstrate multiple inheritance using classes Flyer and Swimmer, then subclass Duck that inherits both."
   ]
  },
  {
   "cell_type": "code",
   "execution_count": 9,
   "id": "56a6e559",
   "metadata": {},
   "outputs": [
    {
     "name": "stdout",
     "output_type": "stream",
     "text": [
      "I can fly\n",
      "I can swim\n"
     ]
    }
   ],
   "source": [
    "class Flyer:\n",
    "    def fly(self): print(\"I can fly\")\n",
    "\n",
    "class Swimmer:\n",
    "    def swim(self): print(\"I can swim\")\n",
    "\n",
    "class Duck(Flyer, Swimmer):\n",
    "    pass\n",
    "\n",
    "duck = Duck()\n",
    "duck.fly(); duck.swim()"
   ]
  },
  {
   "cell_type": "markdown",
   "id": "51a5b062",
   "metadata": {},
   "source": [
    "Create a base class Device and two subclasses Phone and Laptop. Add a method specs() in each."
   ]
  },
  {
   "cell_type": "code",
   "execution_count": 10,
   "id": "45cec814",
   "metadata": {},
   "outputs": [
    {
     "name": "stdout",
     "output_type": "stream",
     "text": [
      "16GB RAM, Intel i7\n"
     ]
    }
   ],
   "source": [
    "class Device:\n",
    "    def specs(self): pass\n",
    "\n",
    "class Phone(Device):\n",
    "    def specs(self): print(\"Touchscreen, 128GB storage\")\n",
    "\n",
    "class Laptop(Device):\n",
    "    def specs(self): print(\"16GB RAM, Intel i7\")\n",
    "\n",
    "Laptop().specs()"
   ]
  },
  {
   "cell_type": "markdown",
   "id": "a3e86d14",
   "metadata": {},
   "source": [
    "Write a class Teacher that inherits from Person and adds a method teach(subject)."
   ]
  },
  {
   "cell_type": "code",
   "execution_count": 11,
   "id": "83bd1c53",
   "metadata": {},
   "outputs": [
    {
     "name": "stdout",
     "output_type": "stream",
     "text": [
      "Alice is teaching Math\n"
     ]
    }
   ],
   "source": [
    "class Person:\n",
    "    def __init__(self, name): self.name = name\n",
    "\n",
    "class Teacher(Person):\n",
    "    def teach(self, subject):\n",
    "        print(f\"{self.name} is teaching {subject}\")\n",
    "\n",
    "Teacher(\"Alice\").teach(\"Math\")"
   ]
  },
  {
   "cell_type": "markdown",
   "id": "58318660",
   "metadata": {},
   "source": [
    "Use super() in a subclass constructor to initialize the parent attributes."
   ]
  },
  {
   "cell_type": "code",
   "execution_count": 12,
   "id": "05270879",
   "metadata": {},
   "outputs": [
    {
     "name": "stdout",
     "output_type": "stream",
     "text": [
      "Tom 10\n"
     ]
    }
   ],
   "source": [
    "class Parent:\n",
    "    def __init__(self, name):\n",
    "        self.name = name\n",
    "\n",
    "class Child(Parent):\n",
    "    def __init__(self, name, age):\n",
    "        super().__init__(name)\n",
    "        self.age = age\n",
    "\n",
    "c = Child(\"Tom\", 10)\n",
    "print(c.name, c.age)\n"
   ]
  },
  {
   "cell_type": "markdown",
   "id": "9531d11b",
   "metadata": {},
   "source": [
    "Write a program showing method overriding — a subclass changes a method’s behavior from the parent class.\n"
   ]
  },
  {
   "cell_type": "code",
   "execution_count": 13,
   "id": "09d022c5",
   "metadata": {},
   "outputs": [
    {
     "name": "stdout",
     "output_type": "stream",
     "text": [
      "Hi from B\n"
     ]
    }
   ],
   "source": [
    "class A:\n",
    "    def greet(self): print(\"Hello from A\")\n",
    "\n",
    "class B(A):\n",
    "    def greet(self): print(\"Hi from B\")\n",
    "\n",
    "B().greet()"
   ]
  },
  {
   "cell_type": "markdown",
   "id": "b0712ec2",
   "metadata": {},
   "source": [
    "Write a class ShoppingCart that stores items in a list, and has methods add_item() and remove_item()."
   ]
  },
  {
   "cell_type": "code",
   "execution_count": 14,
   "id": "2951b9b2",
   "metadata": {},
   "outputs": [
    {
     "name": "stdout",
     "output_type": "stream",
     "text": [
      "['Milk']\n"
     ]
    }
   ],
   "source": [
    "class ShoppingCart:\n",
    "    def __init__(self): self.items = []\n",
    "    def add_item(self, item): self.items.append(item)\n",
    "    def remove_item(self, item): self.items.remove(item)\n",
    "\n",
    "cart = ShoppingCart()\n",
    "cart.add_item(\"Milk\")\n",
    "print(cart.items)"
   ]
  },
  {
   "cell_type": "markdown",
   "id": "bd957b4d",
   "metadata": {},
   "source": [
    "Create a class PhoneBook that stores contacts in a dictionary. Include methods to add, remove, and search by name.\n"
   ]
  },
  {
   "cell_type": "code",
   "execution_count": null,
   "id": "c2436787",
   "metadata": {},
   "outputs": [],
   "source": []
  }
 ],
 "metadata": {
  "kernelspec": {
   "display_name": "base",
   "language": "python",
   "name": "python3"
  },
  "language_info": {
   "codemirror_mode": {
    "name": "ipython",
    "version": 3
   },
   "file_extension": ".py",
   "mimetype": "text/x-python",
   "name": "python",
   "nbconvert_exporter": "python",
   "pygments_lexer": "ipython3",
   "version": "3.12.7"
  }
 },
 "nbformat": 4,
 "nbformat_minor": 5
}
