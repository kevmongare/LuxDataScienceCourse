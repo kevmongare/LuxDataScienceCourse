{
 "cells": [
  {
   "cell_type": "code",
   "execution_count": 6,
   "id": "e052b2e7",
   "metadata": {},
   "outputs": [
    {
     "name": "stdout",
     "output_type": "stream",
     "text": [
      "soda\n",
      "r\n"
     ]
    }
   ],
   "source": [
    "#Accessing a list\n",
    "food =[\n",
    "    \"soda\",\n",
    "    1,\n",
    "    \"Water\",\n",
    "    \"fruits\",[\n",
    "        \"oranges\",\n",
    "        \"Mangoes\",\n",
    "        \"Apples\"\n",
    "    ],\n",
    "    True,\n",
    "    False\n",
    "]\n",
    "print(food[0])\n",
    "print(food[3][1])"
   ]
  },
  {
   "cell_type": "code",
   "execution_count": 4,
   "id": "ffac2e62",
   "metadata": {},
   "outputs": [
    {
     "name": "stdout",
     "output_type": "stream",
     "text": [
      "['oranges', 'Avocado', 'Apples']\n"
     ]
    }
   ],
   "source": [
    "#Changing List items\n",
    "food[3][1] = \"Avocado\"\n",
    "print(food[3])"
   ]
  },
  {
   "cell_type": "code",
   "execution_count": 5,
   "id": "4b1088f1",
   "metadata": {},
   "outputs": [
    {
     "name": "stdout",
     "output_type": "stream",
     "text": [
      "['oranges', 'Avocado', 'Apples', 'Mangoes']\n"
     ]
    }
   ],
   "source": [
    "#Adding Items\n",
    "food[3].append(\"Mangoes\")\n",
    "print(food[3])"
   ]
  },
  {
   "cell_type": "code",
   "execution_count": 6,
   "id": "734b3bdb",
   "metadata": {},
   "outputs": [
    {
     "name": "stdout",
     "output_type": "stream",
     "text": [
      "['soda', True, 1, 'Waterfruits', ['oranges', 'Avocado', 'Apples', 'Mangoes'], True, False]\n"
     ]
    }
   ],
   "source": [
    "#adding to a specific location we use .instert\n",
    "food.insert(1,True)\n",
    "print(food)"
   ]
  },
  {
   "cell_type": "code",
   "execution_count": 9,
   "id": "8b11c338",
   "metadata": {},
   "outputs": [
    {
     "name": "stdout",
     "output_type": "stream",
     "text": [
      "[True, 1, 'Waterfruits', ['oranges', 'Avocado', 'Apples', 'Mangoes'], True, False]\n"
     ]
    }
   ],
   "source": [
    "#Removing list items use .remove\n",
    "food.remove(\"soda\")\n",
    "print(food)\n"
   ]
  },
  {
   "cell_type": "code",
   "execution_count": 14,
   "id": "1646bc33",
   "metadata": {},
   "outputs": [
    {
     "name": "stdout",
     "output_type": "stream",
     "text": [
      "['soda', 1, 'Water', 'fruits', ['oranges', 'Apples'], True, False]\n"
     ]
    }
   ],
   "source": [
    "#toremove in a list in a list we use del as we will be accessing a certain index\n",
    "\n",
    "del food[4][1]\n",
    "print (food)"
   ]
  },
  {
   "cell_type": "code",
   "execution_count": 17,
   "id": "fb8deb45",
   "metadata": {},
   "outputs": [
    {
     "name": "stdout",
     "output_type": "stream",
     "text": [
      "['soda', 1, 'Water', 'fruits', ['oranges', 'Apples'], True]\n",
      "['soda', 1, 'Water', 'fruits', ['oranges', 'Apples']]\n"
     ]
    }
   ],
   "source": [
    "#Removes the last item .(pop)\n",
    "print(food)\n",
    "food.pop(-1)\n",
    "print(food)\n"
   ]
  },
  {
   "cell_type": "code",
   "execution_count": 19,
   "id": "ea0b38cc",
   "metadata": {},
   "outputs": [
    {
     "name": "stdout",
     "output_type": "stream",
     "text": [
      "[]\n"
     ]
    }
   ],
   "source": [
    "#clear - empties the list\n",
    "food.clear()\n",
    "print(food)"
   ]
  },
  {
   "cell_type": "markdown",
   "id": "a2168ed0",
   "metadata": {},
   "source": [
    "## Looping Through a List\n"
   ]
  },
  {
   "cell_type": "markdown",
   "id": "2d783243",
   "metadata": {},
   "source": [
    "Using a for loop"
   ]
  },
  {
   "cell_type": "code",
   "execution_count": 43,
   "id": "d1eb7b37",
   "metadata": {},
   "outputs": [
    {
     "name": "stdout",
     "output_type": "stream",
     "text": [
      "soda\n",
      "1\n",
      "Water\n",
      "fruits\n",
      "['oranges', 'Mangoes', 'Apples']\n",
      "True\n",
      "False\n"
     ]
    }
   ],
   "source": [
    "for foods in food:\n",
    "    print(foods)"
   ]
  },
  {
   "cell_type": "code",
   "execution_count": 44,
   "id": "5e708b3c",
   "metadata": {},
   "outputs": [
    {
     "name": "stdout",
     "output_type": "stream",
     "text": [
      "soda\n",
      "1\n",
      "Water\n",
      "fruits\n",
      "['oranges', 'Mangoes', 'Apples']\n",
      "True\n",
      "False\n"
     ]
    }
   ],
   "source": [
    "for f in range(len(food)):\n",
    "    print(food[f])"
   ]
  },
  {
   "cell_type": "code",
   "execution_count": 8,
   "id": "2a8ac8fc",
   "metadata": {},
   "outputs": [
    {
     "name": "stdout",
     "output_type": "stream",
     "text": [
      "soda\n",
      "1\n",
      "Water\n"
     ]
    }
   ],
   "source": [
    "for f in range(len(food[:3])):\n",
    "    print(food[f])"
   ]
  },
  {
   "cell_type": "code",
   "execution_count": 49,
   "id": "f2e3fbbf",
   "metadata": {},
   "outputs": [
    {
     "name": "stdout",
     "output_type": "stream",
     "text": [
      "soda\n",
      "1\n",
      "Water\n",
      "fruits\n",
      "['oranges', 'Mangoes', 'Apples']\n",
      "True\n",
      "False\n"
     ]
    }
   ],
   "source": [
    "#while loop they are used to execute a code as long as a condition is met\n",
    "#its a must to initialize before starting\n",
    "fd = 0\n",
    "while fd < len(food):\n",
    "    print(food[fd])\n",
    "    fd += 1\n"
   ]
  },
  {
   "cell_type": "code",
   "execution_count": null,
   "id": "546cbee2",
   "metadata": {},
   "outputs": [],
   "source": []
  }
 ],
 "metadata": {
  "kernelspec": {
   "display_name": "base",
   "language": "python",
   "name": "python3"
  },
  "language_info": {
   "codemirror_mode": {
    "name": "ipython",
    "version": 3
   },
   "file_extension": ".py",
   "mimetype": "text/x-python",
   "name": "python",
   "nbconvert_exporter": "python",
   "pygments_lexer": "ipython3",
   "version": "3.12.7"
  }
 },
 "nbformat": 4,
 "nbformat_minor": 5
}
